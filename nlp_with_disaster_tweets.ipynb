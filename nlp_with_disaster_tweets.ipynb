{
 "cells": [
  {
   "cell_type": "code",
   "execution_count": 1,
   "id": "5a476aba",
   "metadata": {
    "_cell_guid": "b1076dfc-b9ad-4769-8c92-a6c4dae69d19",
    "_uuid": "8f2839f25d086af736a60e9eeb907d3b93b6e0e5",
    "execution": {
     "iopub.execute_input": "2023-11-14T19:14:22.317603Z",
     "iopub.status.busy": "2023-11-14T19:14:22.316938Z",
     "iopub.status.idle": "2023-11-14T19:14:23.026899Z",
     "shell.execute_reply": "2023-11-14T19:14:23.025101Z"
    },
    "papermill": {
     "duration": 0.722903,
     "end_time": "2023-11-14T19:14:23.029987",
     "exception": false,
     "start_time": "2023-11-14T19:14:22.307084",
     "status": "completed"
    },
    "tags": []
   },
   "outputs": [
    {
     "name": "stdout",
     "output_type": "stream",
     "text": [
      "/kaggle/input/nlp-getting-started/sample_submission.csv\n",
      "/kaggle/input/nlp-getting-started/train.csv\n",
      "/kaggle/input/nlp-getting-started/test.csv\n",
      "/kaggle/input/bert/tensorflow2/en-uncased-preprocess/3/saved_model.pb\n",
      "/kaggle/input/bert/tensorflow2/en-uncased-preprocess/3/keras_metadata.pb\n",
      "/kaggle/input/bert/tensorflow2/en-uncased-preprocess/3/assets/vocab.txt\n",
      "/kaggle/input/bert/tensorflow2/en-uncased-preprocess/3/variables/variables.index\n",
      "/kaggle/input/bert/tensorflow2/en-uncased-preprocess/3/variables/variables.data-00000-of-00001\n",
      "/kaggle/input/bert/tensorflow2/bert-en-uncased-l-12-h-768-a-12/2/saved_model.pb\n",
      "/kaggle/input/bert/tensorflow2/bert-en-uncased-l-12-h-768-a-12/2/keras_metadata.pb\n",
      "/kaggle/input/bert/tensorflow2/bert-en-uncased-l-12-h-768-a-12/2/assets/vocab.txt\n",
      "/kaggle/input/bert/tensorflow2/bert-en-uncased-l-12-h-768-a-12/2/variables/variables.index\n",
      "/kaggle/input/bert/tensorflow2/bert-en-uncased-l-12-h-768-a-12/2/variables/variables.data-00000-of-00001\n"
     ]
    }
   ],
   "source": [
    "# This Python 3 environment comes with many helpful analytics libraries installed\n",
    "# It is defined by the kaggle/python Docker image: https://github.com/kaggle/docker-python\n",
    "# For example, here's several helpful packages to load\n",
    "\n",
    "import numpy as np # linear algebra\n",
    "import pandas as pd # data processing, CSV file I/O (e.g. pd.read_csv)\n",
    "\n",
    "# Input data files are available in the read-only \"../input/\" directory\n",
    "# For example, running this (by clicking run or pressing Shift+Enter) will list all files under the input directory\n",
    "\n",
    "import os\n",
    "for dirname, _, filenames in os.walk('/kaggle/input'):\n",
    "    for filename in filenames:\n",
    "        print(os.path.join(dirname, filename))\n",
    "\n",
    "# You can write up to 20GB to the current directory (/kaggle/working/) that gets preserved as output when you create a version using \"Save & Run All\" \n",
    "# You can also write temporary files to /kaggle/temp/, but they won't be saved outside of the current session"
   ]
  },
  {
   "cell_type": "code",
   "execution_count": 2,
   "id": "46577e8f",
   "metadata": {
    "execution": {
     "iopub.execute_input": "2023-11-14T19:14:23.049413Z",
     "iopub.status.busy": "2023-11-14T19:14:23.049034Z",
     "iopub.status.idle": "2023-11-14T19:14:23.110748Z",
     "shell.execute_reply": "2023-11-14T19:14:23.109840Z"
    },
    "papermill": {
     "duration": 0.072785,
     "end_time": "2023-11-14T19:14:23.112863",
     "exception": false,
     "start_time": "2023-11-14T19:14:23.040078",
     "status": "completed"
    },
    "tags": []
   },
   "outputs": [],
   "source": [
    "#load the data\n",
    "train_data = pd.read_csv(\"/kaggle/input/nlp-getting-started/train.csv\")\n",
    "test_data = pd.read_csv(\"/kaggle/input/nlp-getting-started/test.csv\")"
   ]
  },
  {
   "cell_type": "code",
   "execution_count": 3,
   "id": "78856560",
   "metadata": {
    "execution": {
     "iopub.execute_input": "2023-11-14T19:14:23.130856Z",
     "iopub.status.busy": "2023-11-14T19:14:23.130551Z",
     "iopub.status.idle": "2023-11-14T19:14:23.147121Z",
     "shell.execute_reply": "2023-11-14T19:14:23.146229Z"
    },
    "papermill": {
     "duration": 0.027741,
     "end_time": "2023-11-14T19:14:23.149206",
     "exception": false,
     "start_time": "2023-11-14T19:14:23.121465",
     "status": "completed"
    },
    "tags": []
   },
   "outputs": [
    {
     "data": {
      "text/html": [
       "<div>\n",
       "<style scoped>\n",
       "    .dataframe tbody tr th:only-of-type {\n",
       "        vertical-align: middle;\n",
       "    }\n",
       "\n",
       "    .dataframe tbody tr th {\n",
       "        vertical-align: top;\n",
       "    }\n",
       "\n",
       "    .dataframe thead th {\n",
       "        text-align: right;\n",
       "    }\n",
       "</style>\n",
       "<table border=\"1\" class=\"dataframe\">\n",
       "  <thead>\n",
       "    <tr style=\"text-align: right;\">\n",
       "      <th></th>\n",
       "      <th>id</th>\n",
       "      <th>keyword</th>\n",
       "      <th>location</th>\n",
       "      <th>text</th>\n",
       "      <th>target</th>\n",
       "    </tr>\n",
       "  </thead>\n",
       "  <tbody>\n",
       "    <tr>\n",
       "      <th>0</th>\n",
       "      <td>1</td>\n",
       "      <td>NaN</td>\n",
       "      <td>NaN</td>\n",
       "      <td>Our Deeds are the Reason of this #earthquake M...</td>\n",
       "      <td>1</td>\n",
       "    </tr>\n",
       "    <tr>\n",
       "      <th>1</th>\n",
       "      <td>4</td>\n",
       "      <td>NaN</td>\n",
       "      <td>NaN</td>\n",
       "      <td>Forest fire near La Ronge Sask. Canada</td>\n",
       "      <td>1</td>\n",
       "    </tr>\n",
       "    <tr>\n",
       "      <th>2</th>\n",
       "      <td>5</td>\n",
       "      <td>NaN</td>\n",
       "      <td>NaN</td>\n",
       "      <td>All residents asked to 'shelter in place' are ...</td>\n",
       "      <td>1</td>\n",
       "    </tr>\n",
       "    <tr>\n",
       "      <th>3</th>\n",
       "      <td>6</td>\n",
       "      <td>NaN</td>\n",
       "      <td>NaN</td>\n",
       "      <td>13,000 people receive #wildfires evacuation or...</td>\n",
       "      <td>1</td>\n",
       "    </tr>\n",
       "    <tr>\n",
       "      <th>4</th>\n",
       "      <td>7</td>\n",
       "      <td>NaN</td>\n",
       "      <td>NaN</td>\n",
       "      <td>Just got sent this photo from Ruby #Alaska as ...</td>\n",
       "      <td>1</td>\n",
       "    </tr>\n",
       "  </tbody>\n",
       "</table>\n",
       "</div>"
      ],
      "text/plain": [
       "   id keyword location                                               text  \\\n",
       "0   1     NaN      NaN  Our Deeds are the Reason of this #earthquake M...   \n",
       "1   4     NaN      NaN             Forest fire near La Ronge Sask. Canada   \n",
       "2   5     NaN      NaN  All residents asked to 'shelter in place' are ...   \n",
       "3   6     NaN      NaN  13,000 people receive #wildfires evacuation or...   \n",
       "4   7     NaN      NaN  Just got sent this photo from Ruby #Alaska as ...   \n",
       "\n",
       "   target  \n",
       "0       1  \n",
       "1       1  \n",
       "2       1  \n",
       "3       1  \n",
       "4       1  "
      ]
     },
     "execution_count": 3,
     "metadata": {},
     "output_type": "execute_result"
    }
   ],
   "source": [
    "train_data.head()"
   ]
  },
  {
   "cell_type": "code",
   "execution_count": 4,
   "id": "d8cab6d4",
   "metadata": {
    "execution": {
     "iopub.execute_input": "2023-11-14T19:14:23.167381Z",
     "iopub.status.busy": "2023-11-14T19:14:23.167102Z",
     "iopub.status.idle": "2023-11-14T19:14:30.059581Z",
     "shell.execute_reply": "2023-11-14T19:14:30.058606Z"
    },
    "papermill": {
     "duration": 6.904191,
     "end_time": "2023-11-14T19:14:30.062126",
     "exception": false,
     "start_time": "2023-11-14T19:14:23.157935",
     "status": "completed"
    },
    "tags": []
   },
   "outputs": [
    {
     "name": "stderr",
     "output_type": "stream",
     "text": [
      "/opt/conda/lib/python3.10/site-packages/scipy/__init__.py:146: UserWarning: A NumPy version >=1.16.5 and <1.23.0 is required for this version of SciPy (detected version 1.24.3\n",
      "  warnings.warn(f\"A NumPy version >={np_minversion} and <{np_maxversion}\"\n"
     ]
    }
   ],
   "source": [
    "import re\n",
    "import spacy\n",
    "from spacy.lang.en.stop_words import STOP_WORDS\n",
    "\n",
    "def preprocess_data(data, tokenize, stop_word = True):\n",
    "\n",
    "  #delete emojis\n",
    "  emoji_pattern = re.compile(\"[\"\n",
    "                           u\"\\U0001F600-\\U0001F64F\"\n",
    "                           u\"\\U0001F300-\\U0001F5FF\"\n",
    "                           u\"\\U0001F680-\\U0001F6FF\"\n",
    "                           u\"\\U0001F1E0-\\U0001F1FF\"\n",
    "                           u\"\\U00002702-\\U000027B0\"\n",
    "                           u\"\\U000024C2-\\U0001F251\"\n",
    "                           \"]+\", flags=re.UNICODE)\n",
    "  emoji_pattern.sub(r'', data)\n",
    "\n",
    "  if stop_word:\n",
    "    preprocessed_data = ' '.join(re.sub(\"(_[A-Za-z0-9]+)|(@[A-Za-z0-9]+)|([^0-9A-Za-z \\t])|(\\w+:\\/\\/\\S+)|[0-9]\",\n",
    "                         \" \",\n",
    "                           data).split()) # delete URLs, hashtags, numbers etc.\n",
    "\n",
    "    words = tokenize(preprocessed_data)\n",
    "    words_list = []\n",
    "    for token in words:\n",
    "      if not token.is_stop and len(token) != 1: #remove stop words and only letters\n",
    "\n",
    "        words_list.append(token.lemma_) #add the lemmatized tokens to list\n",
    "\n",
    "\n",
    "    preprocessed_data = \" \".join(words_list).lower() #make words to lowercase\n",
    "\n",
    "  else:\n",
    "    preprocessed_data = ' '.join(re.sub(\"(_[A-Za-z0-9]+)|(@[A-Za-z0-9]+)|([^0-9A-Za-z \\t])|(\\w+:\\/\\/\\S+)\",\n",
    "                         \" \",\n",
    "                         data).split()) # delete URLs, hashtags etc.\n",
    "\n",
    "    words = tokenize(preprocessed_data)\n",
    "    words_list = []\n",
    "    for token in words:\n",
    "\n",
    "        words_list.append(str(token)) #add the tokens to list\n",
    "\n",
    "\n",
    "    preprocessed_data = \" \".join(words_list).lower() #make words to lowercase\n",
    "\n",
    "\n",
    "  return preprocessed_data"
   ]
  },
  {
   "cell_type": "code",
   "execution_count": 5,
   "id": "813ce340",
   "metadata": {
    "execution": {
     "iopub.execute_input": "2023-11-14T19:14:30.081652Z",
     "iopub.status.busy": "2023-11-14T19:14:30.081167Z",
     "iopub.status.idle": "2023-11-14T19:14:30.765416Z",
     "shell.execute_reply": "2023-11-14T19:14:30.764446Z"
    },
    "papermill": {
     "duration": 0.696447,
     "end_time": "2023-11-14T19:14:30.767883",
     "exception": false,
     "start_time": "2023-11-14T19:14:30.071436",
     "status": "completed"
    },
    "tags": []
   },
   "outputs": [],
   "source": [
    "#preprocess the text column\n",
    "from sklearn.model_selection import train_test_split\n",
    "\n",
    "def get_data(path, stop_word = True, mode = \"train\"):\n",
    "    data = pd.read_csv(path)\n",
    "    text_array = data['text'].to_numpy()\n",
    "    tokenize = spacy.load(\"en_core_web_sm\")\n",
    "    clean_text_list = []\n",
    "    for i in text_array:\n",
    "        clean_text_list.append(preprocess_data(i, tokenize, stop_word=stop_word))\n",
    "    clean_text = pd.DataFrame(clean_text_list)\n",
    "    data['text'] = clean_text\n",
    "    \n",
    "    if mode == \"train\":\n",
    "\n",
    "        X_train, X_test, y_train, y_test = train_test_split(data['text'], data['target'], test_size = 0.3, random_state=42, stratify = data['target'])\n",
    "        return list(X_train), list(X_test), list(y_train), list(y_test)\n",
    "    \n",
    "    elif mode == \"test\":\n",
    "        return list(data['text'])"
   ]
  },
  {
   "cell_type": "code",
   "execution_count": 6,
   "id": "b93a1017",
   "metadata": {
    "execution": {
     "iopub.execute_input": "2023-11-14T19:14:30.787440Z",
     "iopub.status.busy": "2023-11-14T19:14:30.787138Z",
     "iopub.status.idle": "2023-11-14T19:16:26.114109Z",
     "shell.execute_reply": "2023-11-14T19:16:26.113243Z"
    },
    "papermill": {
     "duration": 115.348681,
     "end_time": "2023-11-14T19:16:26.125269",
     "exception": false,
     "start_time": "2023-11-14T19:14:30.776588",
     "status": "completed"
    },
    "tags": []
   },
   "outputs": [
    {
     "name": "stderr",
     "output_type": "stream",
     "text": [
      "/opt/conda/lib/python3.10/site-packages/sklearn/utils/validation.py:605: FutureWarning: is_sparse is deprecated and will be removed in a future version. Check `isinstance(dtype, pd.SparseDtype)` instead.\n",
      "  if is_sparse(pd_dtype):\n",
      "/opt/conda/lib/python3.10/site-packages/sklearn/utils/validation.py:614: FutureWarning: is_sparse is deprecated and will be removed in a future version. Check `isinstance(dtype, pd.SparseDtype)` instead.\n",
      "  if is_sparse(pd_dtype) or not is_extension_array_dtype(pd_dtype):\n",
      "/opt/conda/lib/python3.10/site-packages/sklearn/utils/validation.py:605: FutureWarning: is_sparse is deprecated and will be removed in a future version. Check `isinstance(dtype, pd.SparseDtype)` instead.\n",
      "  if is_sparse(pd_dtype):\n",
      "/opt/conda/lib/python3.10/site-packages/sklearn/utils/validation.py:614: FutureWarning: is_sparse is deprecated and will be removed in a future version. Check `isinstance(dtype, pd.SparseDtype)` instead.\n",
      "  if is_sparse(pd_dtype) or not is_extension_array_dtype(pd_dtype):\n"
     ]
    }
   ],
   "source": [
    "path = \"/kaggle/input/nlp-getting-started/train.csv\"\n",
    "\n",
    "#train-test splits with stopwords\n",
    "Xs_train, Xs_test, ys_train, ys_test =  get_data(path, stop_word = False)\n",
    "Xs_test, Xs_val, ys_test, ys_val = train_test_split(Xs_test, ys_test, test_size = 0.5, random_state = 42)\n",
    "\n",
    "#train-test splits without stopwords\n",
    "X_train, X_test, y_train, y_test =  get_data(path, stop_word = True)\n",
    "X_test, X_val, y_test, y_val = train_test_split(X_test, y_test, test_size = 0.5, random_state = 42)"
   ]
  },
  {
   "cell_type": "code",
   "execution_count": 7,
   "id": "87067947",
   "metadata": {
    "execution": {
     "iopub.execute_input": "2023-11-14T19:16:26.144912Z",
     "iopub.status.busy": "2023-11-14T19:16:26.144343Z",
     "iopub.status.idle": "2023-11-14T19:16:26.151018Z",
     "shell.execute_reply": "2023-11-14T19:16:26.150117Z"
    },
    "papermill": {
     "duration": 0.019109,
     "end_time": "2023-11-14T19:16:26.152958",
     "exception": false,
     "start_time": "2023-11-14T19:16:26.133849",
     "status": "completed"
    },
    "tags": []
   },
   "outputs": [
    {
     "name": "stdout",
     "output_type": "stream",
     "text": [
      "Train size: 5329\n",
      "Val size: 1142\n",
      "Test size: 1142\n",
      "Train data ratio: 0.6999868645737554\n",
      "Val data ratio: 0.1500065677131223\n",
      "Test data ratio: 0.1500065677131223\n"
     ]
    }
   ],
   "source": [
    "print(\"Train size:\", len(X_train))\n",
    "print(\"Val size:\", len(X_val))\n",
    "print(\"Test size:\", len(X_test))\n",
    "\n",
    "print(\"Train data ratio:\", len(X_train)/(len(X_test)+len(X_val)+len(X_train)))\n",
    "print(\"Val data ratio:\", len(X_val)/(len(X_test)+len(X_val)+len(X_train)))\n",
    "print(\"Test data ratio:\", len(X_test)/(len(X_test)+len(X_val)+len(X_train)))"
   ]
  },
  {
   "attachments": {},
   "cell_type": "markdown",
   "id": "983851a9",
   "metadata": {
    "papermill": {
     "duration": 0.008482,
     "end_time": "2023-11-14T19:16:26.170099",
     "exception": false,
     "start_time": "2023-11-14T19:16:26.161617",
     "status": "completed"
    },
    "tags": []
   },
   "source": [
    "# BERT Model"
   ]
  },
  {
   "cell_type": "code",
   "execution_count": 8,
   "id": "d92026d1",
   "metadata": {
    "execution": {
     "iopub.execute_input": "2023-11-14T19:16:26.188504Z",
     "iopub.status.busy": "2023-11-14T19:16:26.188224Z",
     "iopub.status.idle": "2023-11-14T19:16:58.097264Z",
     "shell.execute_reply": "2023-11-14T19:16:58.096274Z"
    },
    "papermill": {
     "duration": 31.920961,
     "end_time": "2023-11-14T19:16:58.099642",
     "exception": false,
     "start_time": "2023-11-14T19:16:26.178681",
     "status": "completed"
    },
    "tags": []
   },
   "outputs": [],
   "source": [
    "#load BERT preprocessor and encoder\n",
    "import tensorflow as tf\n",
    "import tensorflow_hub as hub\n",
    "import tensorflow_text as text\n",
    "\n",
    "preprocessor_path = \"/kaggle/input/bert/tensorflow2/en-uncased-preprocess/3\"\n",
    "encoder_path = \"/kaggle/input/bert/tensorflow2/bert-en-uncased-l-12-h-768-a-12/2\"\n",
    "\n",
    "bert_preprocessor = hub.KerasLayer(\n",
    "    preprocessor_path)\n",
    "bert_encoder =  hub.KerasLayer(\n",
    "    encoder_path, trainable=False)"
   ]
  },
  {
   "cell_type": "code",
   "execution_count": 9,
   "id": "4131cba5",
   "metadata": {
    "execution": {
     "iopub.execute_input": "2023-11-14T19:16:58.118595Z",
     "iopub.status.busy": "2023-11-14T19:16:58.118309Z",
     "iopub.status.idle": "2023-11-14T19:16:59.009129Z",
     "shell.execute_reply": "2023-11-14T19:16:59.008317Z"
    },
    "papermill": {
     "duration": 0.902708,
     "end_time": "2023-11-14T19:16:59.011410",
     "exception": false,
     "start_time": "2023-11-14T19:16:58.108702",
     "status": "completed"
    },
    "tags": []
   },
   "outputs": [],
   "source": [
    "#build the model\n",
    "input_text = tf.keras.layers.Input(shape=(), dtype=tf.string)\n",
    "preprocessed_text = bert_preprocessor(input_text)\n",
    "encoded_text = bert_encoder(preprocessed_text)\n",
    "\n",
    "l = tf.keras.layers.Dropout(0.2)((encoded_text['pooled_output']))\n",
    "l = tf.keras.layers.Dense(1024, activation = 'leaky_relu')(l)\n",
    "l = tf.keras.layers.Dense(1024, activation = 'leaky_relu')(l)\n",
    "l = tf.keras.layers.Dropout(0.2)(l)\n",
    "l = tf.keras.layers.Dense(512, activation = 'leaky_relu')(l)\n",
    "l = tf.keras.layers.Dense(512, activation = 'leaky_relu')(l)\n",
    "l = tf.keras.layers.Dropout(0.2)(l)\n",
    "l = tf.keras.layers.Dense(256, activation = 'leaky_relu')(l)\n",
    "l = tf.keras.layers.Dense(256, activation = 'leaky_relu')(l)\n",
    "l = tf.keras.layers.Dropout(0.2)(l)\n",
    "l = tf.keras.layers.Dense(1, activation = 'sigmoid')(l)\n",
    "\n",
    "\n",
    "model_bert = tf.keras.Model(inputs = [input_text], outputs = [l])"
   ]
  },
  {
   "cell_type": "code",
   "execution_count": 10,
   "id": "5efebf83",
   "metadata": {
    "execution": {
     "iopub.execute_input": "2023-11-14T19:16:59.030258Z",
     "iopub.status.busy": "2023-11-14T19:16:59.029936Z",
     "iopub.status.idle": "2023-11-14T19:16:59.094872Z",
     "shell.execute_reply": "2023-11-14T19:16:59.093896Z"
    },
    "papermill": {
     "duration": 0.080926,
     "end_time": "2023-11-14T19:16:59.101302",
     "exception": false,
     "start_time": "2023-11-14T19:16:59.020376",
     "status": "completed"
    },
    "tags": []
   },
   "outputs": [
    {
     "name": "stdout",
     "output_type": "stream",
     "text": [
      "Model: \"model\"\n",
      "__________________________________________________________________________________________________\n",
      " Layer (type)                Output Shape                 Param #   Connected to                  \n",
      "==================================================================================================\n",
      " input_1 (InputLayer)        [(None,)]                    0         []                            \n",
      "                                                                                                  \n",
      " keras_layer (KerasLayer)    {'input_word_ids': (None,    0         ['input_1[0][0]']             \n",
      "                             128),                                                                \n",
      "                              'input_type_ids': (None,                                            \n",
      "                             128),                                                                \n",
      "                              'input_mask': (None, 128)                                           \n",
      "                             }                                                                    \n",
      "                                                                                                  \n",
      " keras_layer_1 (KerasLayer)  {'sequence_output': (None,   1094822   ['keras_layer[0][0]',         \n",
      "                              128, 768),                  41         'keras_layer[0][1]',         \n",
      "                              'default': (None, 768),                'keras_layer[0][2]']         \n",
      "                              'encoder_outputs': [(None                                           \n",
      "                             , 128, 768),                                                         \n",
      "                              (None, 128, 768),                                                   \n",
      "                              (None, 128, 768),                                                   \n",
      "                              (None, 128, 768),                                                   \n",
      "                              (None, 128, 768),                                                   \n",
      "                              (None, 128, 768),                                                   \n",
      "                              (None, 128, 768),                                                   \n",
      "                              (None, 128, 768),                                                   \n",
      "                              (None, 128, 768),                                                   \n",
      "                              (None, 128, 768),                                                   \n",
      "                              (None, 128, 768),                                                   \n",
      "                              (None, 128, 768)],                                                  \n",
      "                              'pooled_output': (None, 7                                           \n",
      "                             68)}                                                                 \n",
      "                                                                                                  \n",
      " dropout (Dropout)           (None, 768)                  0         ['keras_layer_1[0][13]']      \n",
      "                                                                                                  \n",
      " dense (Dense)               (None, 1024)                 787456    ['dropout[0][0]']             \n",
      "                                                                                                  \n",
      " dense_1 (Dense)             (None, 1024)                 1049600   ['dense[0][0]']               \n",
      "                                                                                                  \n",
      " dropout_1 (Dropout)         (None, 1024)                 0         ['dense_1[0][0]']             \n",
      "                                                                                                  \n",
      " dense_2 (Dense)             (None, 512)                  524800    ['dropout_1[0][0]']           \n",
      "                                                                                                  \n",
      " dense_3 (Dense)             (None, 512)                  262656    ['dense_2[0][0]']             \n",
      "                                                                                                  \n",
      " dropout_2 (Dropout)         (None, 512)                  0         ['dense_3[0][0]']             \n",
      "                                                                                                  \n",
      " dense_4 (Dense)             (None, 256)                  131328    ['dropout_2[0][0]']           \n",
      "                                                                                                  \n",
      " dense_5 (Dense)             (None, 256)                  65792     ['dense_4[0][0]']             \n",
      "                                                                                                  \n",
      " dropout_3 (Dropout)         (None, 256)                  0         ['dense_5[0][0]']             \n",
      "                                                                                                  \n",
      " dense_6 (Dense)             (None, 1)                    257       ['dropout_3[0][0]']           \n",
      "                                                                                                  \n",
      "==================================================================================================\n",
      "Total params: 112304130 (428.41 MB)\n",
      "Trainable params: 2821889 (10.76 MB)\n",
      "Non-trainable params: 109482241 (417.64 MB)\n",
      "__________________________________________________________________________________________________\n"
     ]
    }
   ],
   "source": [
    "model_bert.summary()"
   ]
  },
  {
   "cell_type": "code",
   "execution_count": 11,
   "id": "374829b9",
   "metadata": {
    "execution": {
     "iopub.execute_input": "2023-11-14T19:16:59.128836Z",
     "iopub.status.busy": "2023-11-14T19:16:59.128538Z",
     "iopub.status.idle": "2023-11-14T19:16:59.155270Z",
     "shell.execute_reply": "2023-11-14T19:16:59.154537Z"
    },
    "papermill": {
     "duration": 0.042672,
     "end_time": "2023-11-14T19:16:59.157141",
     "exception": false,
     "start_time": "2023-11-14T19:16:59.114469",
     "status": "completed"
    },
    "tags": []
   },
   "outputs": [],
   "source": [
    "#define metrics, optimizer and set a learning rate scheduler\n",
    "metrics = [\n",
    "        tf.keras.metrics.BinaryAccuracy(name = \"accuracy\"),\n",
    "        tf.keras.metrics.Precision(name = \"precision\"),\n",
    "        tf.keras.metrics.Recall(name = \"recall\")\n",
    "  ]\n",
    "\n",
    "reduce_lr = tf.keras.callbacks.ReduceLROnPlateau(monitor='val_loss', factor=0.1,\n",
    "                                patience=3, min_lr=1e-8)\n",
    "\n",
    "early_stopping = tf.keras.callbacks.EarlyStopping(monitor='val_loss', patience = 6)\n",
    "\n",
    "optimizer = tf.keras.optimizers.Adam(learning_rate=1e-3)\n",
    "\n",
    "\n",
    "model_bert.compile(\n",
    "        optimizer = optimizer,\n",
    "        loss = \"binary_crossentropy\",\n",
    "        metrics = metrics\n",
    "    )"
   ]
  },
  {
   "cell_type": "code",
   "execution_count": 12,
   "id": "82b0bac8",
   "metadata": {
    "execution": {
     "iopub.execute_input": "2023-11-14T19:16:59.184409Z",
     "iopub.status.busy": "2023-11-14T19:16:59.184137Z",
     "iopub.status.idle": "2023-11-14T19:31:32.446871Z",
     "shell.execute_reply": "2023-11-14T19:31:32.445870Z"
    },
    "papermill": {
     "duration": 873.464783,
     "end_time": "2023-11-14T19:31:32.635051",
     "exception": false,
     "start_time": "2023-11-14T19:16:59.170268",
     "status": "completed"
    },
    "tags": []
   },
   "outputs": [
    {
     "name": "stdout",
     "output_type": "stream",
     "text": [
      "Epoch 1/30\n",
      "167/167 [==============================] - 56s 256ms/step - loss: 0.5871 - accuracy: 0.6994 - precision: 0.6872 - recall: 0.5515 - val_loss: 0.5222 - val_accuracy: 0.7609 - val_precision: 0.7020 - val_recall: 0.7694 - lr: 0.0010\n",
      "Epoch 2/30\n",
      "167/167 [==============================] - 42s 250ms/step - loss: 0.5344 - accuracy: 0.7493 - precision: 0.7516 - recall: 0.6223 - val_loss: 0.4939 - val_accuracy: 0.7776 - val_precision: 0.7864 - val_recall: 0.6612 - lr: 0.0010\n",
      "Epoch 3/30\n",
      "167/167 [==============================] - 42s 249ms/step - loss: 0.5276 - accuracy: 0.7579 - precision: 0.7796 - recall: 0.6087 - val_loss: 0.4842 - val_accuracy: 0.7855 - val_precision: 0.8356 - val_recall: 0.6224 - lr: 0.0010\n",
      "Epoch 4/30\n",
      "167/167 [==============================] - 42s 250ms/step - loss: 0.5318 - accuracy: 0.7566 - precision: 0.7797 - recall: 0.6044 - val_loss: 0.4913 - val_accuracy: 0.7968 - val_precision: 0.7959 - val_recall: 0.7082 - lr: 0.0010\n",
      "Epoch 5/30\n",
      "167/167 [==============================] - 42s 250ms/step - loss: 0.5056 - accuracy: 0.7681 - precision: 0.7874 - recall: 0.6306 - val_loss: 0.5187 - val_accuracy: 0.7802 - val_precision: 0.8654 - val_recall: 0.5776 - lr: 0.0010\n",
      "Epoch 6/30\n",
      "167/167 [==============================] - 42s 250ms/step - loss: 0.4943 - accuracy: 0.7795 - precision: 0.7992 - recall: 0.6502 - val_loss: 0.5119 - val_accuracy: 0.7723 - val_precision: 0.8343 - val_recall: 0.5857 - lr: 0.0010\n",
      "Epoch 7/30\n",
      "167/167 [==============================] - 42s 249ms/step - loss: 0.4687 - accuracy: 0.7806 - precision: 0.7970 - recall: 0.6568 - val_loss: 0.4657 - val_accuracy: 0.7995 - val_precision: 0.8085 - val_recall: 0.6980 - lr: 1.0000e-04\n",
      "Epoch 8/30\n",
      "167/167 [==============================] - 42s 250ms/step - loss: 0.4576 - accuracy: 0.7913 - precision: 0.8140 - recall: 0.6668 - val_loss: 0.4663 - val_accuracy: 0.7995 - val_precision: 0.8238 - val_recall: 0.6776 - lr: 1.0000e-04\n",
      "Epoch 9/30\n",
      "167/167 [==============================] - 42s 250ms/step - loss: 0.4552 - accuracy: 0.7870 - precision: 0.8147 - recall: 0.6528 - val_loss: 0.4693 - val_accuracy: 0.7968 - val_precision: 0.7905 - val_recall: 0.7163 - lr: 1.0000e-04\n",
      "Epoch 10/30\n",
      "167/167 [==============================] - 42s 249ms/step - loss: 0.4575 - accuracy: 0.7810 - precision: 0.8011 - recall: 0.6524 - val_loss: 0.4719 - val_accuracy: 0.7960 - val_precision: 0.8024 - val_recall: 0.6959 - lr: 1.0000e-04\n",
      "Epoch 11/30\n",
      "167/167 [==============================] - 42s 249ms/step - loss: 0.4517 - accuracy: 0.7913 - precision: 0.8074 - recall: 0.6755 - val_loss: 0.4687 - val_accuracy: 0.8021 - val_precision: 0.8128 - val_recall: 0.7000 - lr: 1.0000e-05\n",
      "Epoch 12/30\n",
      "167/167 [==============================] - 42s 250ms/step - loss: 0.4461 - accuracy: 0.7938 - precision: 0.8183 - recall: 0.6686 - val_loss: 0.4669 - val_accuracy: 0.8030 - val_precision: 0.8162 - val_recall: 0.6980 - lr: 1.0000e-05\n",
      "Epoch 13/30\n",
      "167/167 [==============================] - 42s 249ms/step - loss: 0.4467 - accuracy: 0.7925 - precision: 0.8179 - recall: 0.6651 - val_loss: 0.4658 - val_accuracy: 0.8030 - val_precision: 0.8208 - val_recall: 0.6918 - lr: 1.0000e-05\n"
     ]
    }
   ],
   "source": [
    "#training without stopwords\n",
    "history = model_bert.fit(X_train,\n",
    "                  y_train,\n",
    "                  epochs = 30,\n",
    "                  batch_size = 32,\n",
    "                  validation_data=(X_val, y_val),\n",
    "                  callbacks = [reduce_lr, early_stopping]\n",
    "                  )"
   ]
  },
  {
   "cell_type": "code",
   "execution_count": 13,
   "id": "48c8b115",
   "metadata": {
    "execution": {
     "iopub.execute_input": "2023-11-14T19:31:33.010705Z",
     "iopub.status.busy": "2023-11-14T19:31:33.009987Z",
     "iopub.status.idle": "2023-11-14T19:31:40.421293Z",
     "shell.execute_reply": "2023-11-14T19:31:40.420178Z"
    },
    "papermill": {
     "duration": 7.601596,
     "end_time": "2023-11-14T19:31:40.423271",
     "exception": false,
     "start_time": "2023-11-14T19:31:32.821675",
     "status": "completed"
    },
    "tags": []
   },
   "outputs": [
    {
     "name": "stdout",
     "output_type": "stream",
     "text": [
      "36/36 [==============================] - 7s 203ms/step - loss: 0.4594 - accuracy: 0.8004 - precision: 0.8215 - recall: 0.6843\n",
      "F1 score is 0.7466666706367772\n"
     ]
    }
   ],
   "source": [
    "#without stop words and numbers\n",
    "eval = model_bert.evaluate(X_test, y_test)\n",
    "f1_score = (2*eval[2]*eval[3])/(eval[2]+eval[3])\n",
    "print(\"F1 score is\", f1_score)"
   ]
  },
  {
   "cell_type": "code",
   "execution_count": 14,
   "id": "ed487337",
   "metadata": {
    "execution": {
     "iopub.execute_input": "2023-11-14T19:31:40.806724Z",
     "iopub.status.busy": "2023-11-14T19:31:40.805850Z",
     "iopub.status.idle": "2023-11-14T19:31:48.924584Z",
     "shell.execute_reply": "2023-11-14T19:31:48.923595Z"
    },
    "papermill": {
     "duration": 8.310588,
     "end_time": "2023-11-14T19:31:48.926528",
     "exception": false,
     "start_time": "2023-11-14T19:31:40.615940",
     "status": "completed"
    },
    "tags": []
   },
   "outputs": [
    {
     "name": "stdout",
     "output_type": "stream",
     "text": [
      "36/36 [==============================] - 8s 201ms/step\n"
     ]
    },
    {
     "data": {
      "text/plain": [
       "array([1, 0, 1, ..., 0, 1, 0])"
      ]
     },
     "execution_count": 14,
     "metadata": {},
     "output_type": "execute_result"
    }
   ],
   "source": [
    "#predictions for the test set\n",
    "y_predicted = model_bert.predict(X_test)\n",
    "y_predicted = y_predicted.flatten()\n",
    "y_predicted = np.where(y_predicted > 0.5, 1, 0)\n",
    "\n",
    "y_predicted"
   ]
  },
  {
   "cell_type": "code",
   "execution_count": 15,
   "id": "9c240ff9",
   "metadata": {
    "execution": {
     "iopub.execute_input": "2023-11-14T19:31:49.387562Z",
     "iopub.status.busy": "2023-11-14T19:31:49.387198Z",
     "iopub.status.idle": "2023-11-14T19:31:49.796416Z",
     "shell.execute_reply": "2023-11-14T19:31:49.795517Z"
    },
    "papermill": {
     "duration": 0.625759,
     "end_time": "2023-11-14T19:31:49.798511",
     "exception": false,
     "start_time": "2023-11-14T19:31:49.172752",
     "status": "completed"
    },
    "tags": []
   },
   "outputs": [
    {
     "data": {
      "image/png": "[encoded data removed]",
      "text/plain": [
       "<Figure size 640x480 with 2 Axes>"
      ]
     },
     "metadata": {},
     "output_type": "display_data"
    }
   ],
   "source": [
    "from sklearn.metrics import confusion_matrix\n",
    "import matplotlib.pyplot as plt\n",
    "import seaborn as sns\n",
    "\n",
    "cm = confusion_matrix(y_test, y_predicted) # create confusion matrix\n",
    "\n",
    "sns.heatmap(cm, annot=True, fmt='d') # plot the confusion matrix\n",
    "plt.xlabel('Predicted')\n",
    "plt.ylabel('Truth')\n",
    "plt.show()"
   ]
  },
  {
   "cell_type": "code",
   "execution_count": 16,
   "id": "84d9b020",
   "metadata": {
    "execution": {
     "iopub.execute_input": "2023-11-14T19:31:50.188547Z",
     "iopub.status.busy": "2023-11-14T19:31:50.188185Z",
     "iopub.status.idle": "2023-11-14T19:31:50.415084Z",
     "shell.execute_reply": "2023-11-14T19:31:50.414273Z"
    },
    "papermill": {
     "duration": 0.425057,
     "end_time": "2023-11-14T19:31:50.417320",
     "exception": false,
     "start_time": "2023-11-14T19:31:49.992263",
     "status": "completed"
    },
    "tags": []
   },
   "outputs": [],
   "source": [
    "#build the model again for new training\n",
    "input_text = tf.keras.layers.Input(shape=(), dtype=tf.string)\n",
    "preprocessed_text = bert_preprocessor(input_text)\n",
    "encoded_text = bert_encoder(preprocessed_text)\n",
    "\n",
    "l = tf.keras.layers.Dropout(0.2)((encoded_text['pooled_output']))\n",
    "l = tf.keras.layers.Dense(1024, activation = 'leaky_relu')(l)\n",
    "l = tf.keras.layers.Dense(1024, activation = 'leaky_relu')(l)\n",
    "l = tf.keras.layers.Dropout(0.2)(l)\n",
    "l = tf.keras.layers.Dense(512, activation = 'leaky_relu')(l)\n",
    "l = tf.keras.layers.Dense(512, activation = 'leaky_relu')(l)\n",
    "l = tf.keras.layers.Dropout(0.2)(l)\n",
    "l = tf.keras.layers.Dense(256, activation = 'leaky_relu')(l)\n",
    "l = tf.keras.layers.Dense(256, activation = 'leaky_relu')(l)\n",
    "l = tf.keras.layers.Dropout(0.2)(l)\n",
    "l = tf.keras.layers.Dense(1, activation = 'sigmoid')(l)\n",
    "\n",
    "model_bert_ws = tf.keras.Model(inputs = [input_text], outputs = [l]) #ws: with stopwords"
   ]
  },
  {
   "cell_type": "code",
   "execution_count": 17,
   "id": "24709975",
   "metadata": {
    "execution": {
     "iopub.execute_input": "2023-11-14T19:31:50.809661Z",
     "iopub.status.busy": "2023-11-14T19:31:50.809279Z",
     "iopub.status.idle": "2023-11-14T19:31:50.831721Z",
     "shell.execute_reply": "2023-11-14T19:31:50.830950Z"
    },
    "papermill": {
     "duration": 0.220345,
     "end_time": "2023-11-14T19:31:50.833747",
     "exception": false,
     "start_time": "2023-11-14T19:31:50.613402",
     "status": "completed"
    },
    "tags": []
   },
   "outputs": [],
   "source": [
    "#define metrics, optimizer and set a learning rate scheduler\n",
    "metrics = [\n",
    "        tf.keras.metrics.BinaryAccuracy(name = \"accuracy\"),\n",
    "        tf.keras.metrics.Precision(name = \"precision\"),\n",
    "        tf.keras.metrics.Recall(name = \"recall\")\n",
    "  ]\n",
    "\n",
    "reduce_lr = tf.keras.callbacks.ReduceLROnPlateau(monitor='val_loss', factor=0.1,\n",
    "                                patience=3, min_lr=1e-8)\n",
    "\n",
    "early_stopping = tf.keras.callbacks.EarlyStopping(monitor='val_loss', patience = 6)\n",
    "\n",
    "optimizer = tf.keras.optimizers.Adam(learning_rate=1e-3)\n",
    "\n",
    "\n",
    "model_bert.compile(\n",
    "        optimizer = optimizer,\n",
    "        loss = \"binary_crossentropy\",\n",
    "        metrics = metrics\n",
    "    )"
   ]
  },
  {
   "cell_type": "code",
   "execution_count": 18,
   "id": "3879c91f",
   "metadata": {
    "execution": {
     "iopub.execute_input": "2023-11-14T19:31:51.229200Z",
     "iopub.status.busy": "2023-11-14T19:31:51.228792Z",
     "iopub.status.idle": "2023-11-14T19:31:51.293686Z",
     "shell.execute_reply": "2023-11-14T19:31:51.290743Z"
    },
    "papermill": {
     "duration": 0.270221,
     "end_time": "2023-11-14T19:31:51.303791",
     "exception": false,
     "start_time": "2023-11-14T19:31:51.033570",
     "status": "completed"
    },
    "tags": []
   },
   "outputs": [
    {
     "name": "stdout",
     "output_type": "stream",
     "text": [
      "Model: \"model_1\"\n",
      "__________________________________________________________________________________________________\n",
      " Layer (type)                Output Shape                 Param #   Connected to                  \n",
      "==================================================================================================\n",
      " input_2 (InputLayer)        [(None,)]                    0         []                            \n",
      "                                                                                                  \n",
      " keras_layer (KerasLayer)    {'input_word_ids': (None,    0         ['input_2[0][0]']             \n",
      "                             128),                                                                \n",
      "                              'input_type_ids': (None,                                            \n",
      "                             128),                                                                \n",
      "                              'input_mask': (None, 128)                                           \n",
      "                             }                                                                    \n",
      "                                                                                                  \n",
      " keras_layer_1 (KerasLayer)  {'sequence_output': (None,   1094822   ['keras_layer[1][0]',         \n",
      "                              128, 768),                  41         'keras_layer[1][1]',         \n",
      "                              'default': (None, 768),                'keras_layer[1][2]']         \n",
      "                              'encoder_outputs': [(None                                           \n",
      "                             , 128, 768),                                                         \n",
      "                              (None, 128, 768),                                                   \n",
      "                              (None, 128, 768),                                                   \n",
      "                              (None, 128, 768),                                                   \n",
      "                              (None, 128, 768),                                                   \n",
      "                              (None, 128, 768),                                                   \n",
      "                              (None, 128, 768),                                                   \n",
      "                              (None, 128, 768),                                                   \n",
      "                              (None, 128, 768),                                                   \n",
      "                              (None, 128, 768),                                                   \n",
      "                              (None, 128, 768),                                                   \n",
      "                              (None, 128, 768)],                                                  \n",
      "                              'pooled_output': (None, 7                                           \n",
      "                             68)}                                                                 \n",
      "                                                                                                  \n",
      " dropout_4 (Dropout)         (None, 768)                  0         ['keras_layer_1[1][13]']      \n",
      "                                                                                                  \n",
      " dense_7 (Dense)             (None, 1024)                 787456    ['dropout_4[0][0]']           \n",
      "                                                                                                  \n",
      " dense_8 (Dense)             (None, 1024)                 1049600   ['dense_7[0][0]']             \n",
      "                                                                                                  \n",
      " dropout_5 (Dropout)         (None, 1024)                 0         ['dense_8[0][0]']             \n",
      "                                                                                                  \n",
      " dense_9 (Dense)             (None, 512)                  524800    ['dropout_5[0][0]']           \n",
      "                                                                                                  \n",
      " dense_10 (Dense)            (None, 512)                  262656    ['dense_9[0][0]']             \n",
      "                                                                                                  \n",
      " dropout_6 (Dropout)         (None, 512)                  0         ['dense_10[0][0]']            \n",
      "                                                                                                  \n",
      " dense_11 (Dense)            (None, 256)                  131328    ['dropout_6[0][0]']           \n",
      "                                                                                                  \n",
      " dense_12 (Dense)            (None, 256)                  65792     ['dense_11[0][0]']            \n",
      "                                                                                                  \n",
      " dropout_7 (Dropout)         (None, 256)                  0         ['dense_12[0][0]']            \n",
      "                                                                                                  \n",
      " dense_13 (Dense)            (None, 1)                    257       ['dropout_7[0][0]']           \n",
      "                                                                                                  \n",
      "==================================================================================================\n",
      "Total params: 112304130 (428.41 MB)\n",
      "Trainable params: 2821889 (10.76 MB)\n",
      "Non-trainable params: 109482241 (417.64 MB)\n",
      "__________________________________________________________________________________________________\n"
     ]
    }
   ],
   "source": [
    "model_bert_ws.summary()"
   ]
  },
  {
   "cell_type": "code",
   "execution_count": 19,
   "id": "b41f96e6",
   "metadata": {
    "execution": {
     "iopub.execute_input": "2023-11-14T19:31:51.706701Z",
     "iopub.status.busy": "2023-11-14T19:31:51.706340Z",
     "iopub.status.idle": "2023-11-14T19:31:51.717219Z",
     "shell.execute_reply": "2023-11-14T19:31:51.716382Z"
    },
    "papermill": {
     "duration": 0.216261,
     "end_time": "2023-11-14T19:31:51.719062",
     "exception": false,
     "start_time": "2023-11-14T19:31:51.502801",
     "status": "completed"
    },
    "tags": []
   },
   "outputs": [],
   "source": [
    "model_bert_ws.compile(\n",
    "        optimizer = optimizer,\n",
    "        loss = \"binary_crossentropy\",\n",
    "        metrics = metrics\n",
    "    )"
   ]
  },
  {
   "cell_type": "code",
   "execution_count": 20,
   "id": "19bba213",
   "metadata": {
    "execution": {
     "iopub.execute_input": "2023-11-14T19:31:52.115558Z",
     "iopub.status.busy": "2023-11-14T19:31:52.115211Z",
     "iopub.status.idle": "2023-11-14T19:53:57.297612Z",
     "shell.execute_reply": "2023-11-14T19:53:57.296582Z"
    },
    "papermill": {
     "duration": 1325.385261,
     "end_time": "2023-11-14T19:53:57.302532",
     "exception": false,
     "start_time": "2023-11-14T19:31:51.917271",
     "status": "completed"
    },
    "tags": []
   },
   "outputs": [
    {
     "name": "stdout",
     "output_type": "stream",
     "text": [
      "Epoch 1/30\n",
      "167/167 [==============================] - 48s 256ms/step - loss: 0.5632 - accuracy: 0.7279 - precision: 0.7220 - recall: 0.5965 - val_loss: 0.5126 - val_accuracy: 0.7697 - val_precision: 0.8900 - val_recall: 0.5286 - lr: 0.0010\n",
      "Epoch 2/30\n",
      "167/167 [==============================] - 42s 250ms/step - loss: 0.5102 - accuracy: 0.7696 - precision: 0.7973 - recall: 0.6218 - val_loss: 0.4921 - val_accuracy: 0.7828 - val_precision: 0.8954 - val_recall: 0.5592 - lr: 0.0010\n",
      "Epoch 3/30\n",
      "167/167 [==============================] - 42s 250ms/step - loss: 0.4937 - accuracy: 0.7752 - precision: 0.7958 - recall: 0.6415 - val_loss: 0.4644 - val_accuracy: 0.8012 - val_precision: 0.8623 - val_recall: 0.6388 - lr: 0.0010\n",
      "Epoch 4/30\n",
      "167/167 [==============================] - 42s 250ms/step - loss: 0.4831 - accuracy: 0.7791 - precision: 0.7918 - recall: 0.6594 - val_loss: 0.4482 - val_accuracy: 0.8047 - val_precision: 0.8432 - val_recall: 0.6694 - lr: 0.0010\n",
      "Epoch 5/30\n",
      "167/167 [==============================] - 42s 250ms/step - loss: 0.4665 - accuracy: 0.7923 - precision: 0.8060 - recall: 0.6803 - val_loss: 0.4594 - val_accuracy: 0.8091 - val_precision: 0.8383 - val_recall: 0.6878 - lr: 0.0010\n",
      "Epoch 6/30\n",
      "167/167 [==============================] - 42s 250ms/step - loss: 0.4746 - accuracy: 0.7883 - precision: 0.8064 - recall: 0.6677 - val_loss: 0.4495 - val_accuracy: 0.8100 - val_precision: 0.8273 - val_recall: 0.7041 - lr: 0.0010\n",
      "Epoch 7/30\n",
      "167/167 [==============================] - 42s 251ms/step - loss: 0.4710 - accuracy: 0.7876 - precision: 0.8031 - recall: 0.6699 - val_loss: 0.4472 - val_accuracy: 0.8082 - val_precision: 0.8501 - val_recall: 0.6714 - lr: 0.0010\n",
      "Epoch 8/30\n",
      "167/167 [==============================] - 42s 250ms/step - loss: 0.4599 - accuracy: 0.7947 - precision: 0.8164 - recall: 0.6738 - val_loss: 0.4507 - val_accuracy: 0.8047 - val_precision: 0.8560 - val_recall: 0.6551 - lr: 0.0010\n",
      "Epoch 9/30\n",
      "167/167 [==============================] - 42s 250ms/step - loss: 0.4560 - accuracy: 0.7975 - precision: 0.8185 - recall: 0.6795 - val_loss: 0.4520 - val_accuracy: 0.8135 - val_precision: 0.8085 - val_recall: 0.7408 - lr: 0.0010\n",
      "Epoch 10/30\n",
      "167/167 [==============================] - 42s 250ms/step - loss: 0.4531 - accuracy: 0.7949 - precision: 0.8172 - recall: 0.6734 - val_loss: 0.4505 - val_accuracy: 0.7986 - val_precision: 0.8476 - val_recall: 0.6469 - lr: 0.0010\n",
      "Epoch 11/30\n",
      "167/167 [==============================] - 42s 250ms/step - loss: 0.4264 - accuracy: 0.8045 - precision: 0.8257 - recall: 0.6908 - val_loss: 0.4413 - val_accuracy: 0.8152 - val_precision: 0.8121 - val_recall: 0.7408 - lr: 1.0000e-04\n",
      "Epoch 12/30\n",
      "167/167 [==============================] - 42s 250ms/step - loss: 0.4171 - accuracy: 0.8063 - precision: 0.8222 - recall: 0.7009 - val_loss: 0.4409 - val_accuracy: 0.8179 - val_precision: 0.8634 - val_recall: 0.6837 - lr: 1.0000e-04\n",
      "Epoch 13/30\n",
      "167/167 [==============================] - 42s 250ms/step - loss: 0.4105 - accuracy: 0.8138 - precision: 0.8359 - recall: 0.7052 - val_loss: 0.4395 - val_accuracy: 0.8187 - val_precision: 0.8393 - val_recall: 0.7143 - lr: 1.0000e-04\n",
      "Epoch 14/30\n",
      "167/167 [==============================] - 42s 250ms/step - loss: 0.4132 - accuracy: 0.8088 - precision: 0.8288 - recall: 0.6996 - val_loss: 0.4403 - val_accuracy: 0.8187 - val_precision: 0.8546 - val_recall: 0.6959 - lr: 1.0000e-04\n",
      "Epoch 15/30\n",
      "167/167 [==============================] - 42s 250ms/step - loss: 0.4080 - accuracy: 0.8138 - precision: 0.8370 - recall: 0.7039 - val_loss: 0.4380 - val_accuracy: 0.8205 - val_precision: 0.8554 - val_recall: 0.7000 - lr: 1.0000e-04\n",
      "Epoch 16/30\n",
      "167/167 [==============================] - 42s 250ms/step - loss: 0.4072 - accuracy: 0.8133 - precision: 0.8299 - recall: 0.7114 - val_loss: 0.4396 - val_accuracy: 0.8205 - val_precision: 0.8626 - val_recall: 0.6918 - lr: 1.0000e-04\n",
      "Epoch 17/30\n",
      "167/167 [==============================] - 42s 250ms/step - loss: 0.4055 - accuracy: 0.8148 - precision: 0.8406 - recall: 0.7022 - val_loss: 0.4494 - val_accuracy: 0.8179 - val_precision: 0.8133 - val_recall: 0.7469 - lr: 1.0000e-04\n",
      "Epoch 18/30\n",
      "167/167 [==============================] - 42s 250ms/step - loss: 0.4007 - accuracy: 0.8193 - precision: 0.8241 - recall: 0.7367 - val_loss: 0.4415 - val_accuracy: 0.8222 - val_precision: 0.8806 - val_recall: 0.6776 - lr: 1.0000e-04\n",
      "Epoch 19/30\n",
      "167/167 [==============================] - 42s 251ms/step - loss: 0.3886 - accuracy: 0.8238 - precision: 0.8572 - recall: 0.7079 - val_loss: 0.4433 - val_accuracy: 0.8222 - val_precision: 0.8543 - val_recall: 0.7061 - lr: 1.0000e-05\n",
      "Epoch 20/30\n",
      "167/167 [==============================] - 42s 250ms/step - loss: 0.3850 - accuracy: 0.8259 - precision: 0.8478 - recall: 0.7249 - val_loss: 0.4450 - val_accuracy: 0.8240 - val_precision: 0.8533 - val_recall: 0.7122 - lr: 1.0000e-05\n",
      "Epoch 21/30\n",
      "167/167 [==============================] - 42s 250ms/step - loss: 0.3878 - accuracy: 0.8227 - precision: 0.8405 - recall: 0.7249 - val_loss: 0.4449 - val_accuracy: 0.8205 - val_precision: 0.8467 - val_recall: 0.7102 - lr: 1.0000e-05\n"
     ]
    }
   ],
   "source": [
    "#train with stopwords\n",
    "history_ws = history = model_bert_ws.fit(Xs_train,\n",
    "                  ys_train,\n",
    "                  epochs = 30,\n",
    "                  batch_size = 32,\n",
    "                  validation_data=(Xs_val, ys_val),\n",
    "                  callbacks = [reduce_lr, early_stopping]\n",
    "                  )"
   ]
  },
  {
   "cell_type": "code",
   "execution_count": 21,
   "id": "07e55841",
   "metadata": {
    "execution": {
     "iopub.execute_input": "2023-11-14T19:53:58.269150Z",
     "iopub.status.busy": "2023-11-14T19:53:58.268500Z",
     "iopub.status.idle": "2023-11-14T19:54:44.816419Z",
     "shell.execute_reply": "2023-11-14T19:54:44.815368Z"
    },
    "papermill": {
     "duration": 47.033351,
     "end_time": "2023-11-14T19:54:44.818432",
     "exception": false,
     "start_time": "2023-11-14T19:53:57.785081",
     "status": "completed"
    },
    "tags": []
   },
   "outputs": [
    {
     "name": "stdout",
     "output_type": "stream",
     "text": [
      "36/36 [==============================] - 7s 203ms/step - loss: 0.4504 - accuracy: 0.8117 - precision: 0.8209 - recall: 0.7189\n",
      "F1 score is 0.7665580802049805\n"
     ]
    }
   ],
   "source": [
    "#evaluate data with stop words and numbers\n",
    "eval = model_bert_ws.evaluate(Xs_test, ys_test)\n",
    "f1_score = (2*eval[2]*eval[3])/(eval[2]+eval[3])\n",
    "print(\"F1 score is\", f1_score)"
   ]
  },
  {
   "cell_type": "code",
   "execution_count": 22,
   "id": "7dfa58c0",
   "metadata": {
    "execution": {
     "iopub.execute_input": "2023-11-14T19:54:45.787508Z",
     "iopub.status.busy": "2023-11-14T19:54:45.786581Z",
     "iopub.status.idle": "2023-11-14T19:54:53.885115Z",
     "shell.execute_reply": "2023-11-14T19:54:53.884269Z"
    },
    "papermill": {
     "duration": 8.584703,
     "end_time": "2023-11-14T19:54:53.887080",
     "exception": false,
     "start_time": "2023-11-14T19:54:45.302377",
     "status": "completed"
    },
    "tags": []
   },
   "outputs": [
    {
     "name": "stdout",
     "output_type": "stream",
     "text": [
      "36/36 [==============================] - 8s 201ms/step\n"
     ]
    },
    {
     "data": {
      "text/plain": [
       "array([1, 0, 1, ..., 0, 1, 0])"
      ]
     },
     "execution_count": 22,
     "metadata": {},
     "output_type": "execute_result"
    }
   ],
   "source": [
    "#get prediction for the test set\n",
    "ys_predicted = model_bert_ws.predict(Xs_test)\n",
    "ys_predicted = ys_predicted.flatten()\n",
    "ys_predicted = np.where(ys_predicted > 0.5, 1, 0)\n",
    "\n",
    "ys_predicted"
   ]
  },
  {
   "cell_type": "code",
   "execution_count": 23,
   "id": "074ebc10",
   "metadata": {
    "execution": {
     "iopub.execute_input": "2023-11-14T19:54:54.875492Z",
     "iopub.status.busy": "2023-11-14T19:54:54.875133Z",
     "iopub.status.idle": "2023-11-14T19:54:55.058798Z",
     "shell.execute_reply": "2023-11-14T19:54:55.057868Z"
    },
    "papermill": {
     "duration": 0.679437,
     "end_time": "2023-11-14T19:54:55.061680",
     "exception": false,
     "start_time": "2023-11-14T19:54:54.382243",
     "status": "completed"
    },
    "tags": []
   },
   "outputs": [
    {
     "data": {
      "image/png": "[encoded data removed]",
      "text/plain": [
       "<Figure size 640x480 with 2 Axes>"
      ]
     },
     "metadata": {},
     "output_type": "display_data"
    }
   ],
   "source": [
    "cm = confusion_matrix(ys_test, ys_predicted) # create confusion matrix\n",
    "\n",
    "sns.heatmap(cm, annot=True, fmt='d') # plot the confusion metrics\n",
    "plt.xlabel('Predicted')\n",
    "plt.ylabel('Truth')\n",
    "plt.show()"
   ]
  },
  {
   "cell_type": "code",
   "execution_count": 24,
   "id": "f08e8f84",
   "metadata": {
    "execution": {
     "iopub.execute_input": "2023-11-14T19:54:56.101798Z",
     "iopub.status.busy": "2023-11-14T19:54:56.101427Z",
     "iopub.status.idle": "2023-11-14T19:55:21.366316Z",
     "shell.execute_reply": "2023-11-14T19:55:21.365498Z"
    },
    "papermill": {
     "duration": 25.755382,
     "end_time": "2023-11-14T19:55:21.368637",
     "exception": false,
     "start_time": "2023-11-14T19:54:55.613255",
     "status": "completed"
    },
    "tags": []
   },
   "outputs": [],
   "source": [
    "#load the test data\n",
    "test_data_path = \"/kaggle/input/nlp-getting-started/test.csv\"\n",
    "data_test = get_data(test_data_path, stop_word = False, mode = \"test\")"
   ]
  },
  {
   "cell_type": "code",
   "execution_count": 25,
   "id": "3e74574b",
   "metadata": {
    "execution": {
     "iopub.execute_input": "2023-11-14T19:55:22.351730Z",
     "iopub.status.busy": "2023-11-14T19:55:22.350842Z",
     "iopub.status.idle": "2023-11-14T19:55:22.369367Z",
     "shell.execute_reply": "2023-11-14T19:55:22.368488Z"
    },
    "papermill": {
     "duration": 0.506944,
     "end_time": "2023-11-14T19:55:22.371300",
     "exception": false,
     "start_time": "2023-11-14T19:55:21.864356",
     "status": "completed"
    },
    "tags": []
   },
   "outputs": [
    {
     "data": {
      "text/html": [
       "<div>\n",
       "<style scoped>\n",
       "    .dataframe tbody tr th:only-of-type {\n",
       "        vertical-align: middle;\n",
       "    }\n",
       "\n",
       "    .dataframe tbody tr th {\n",
       "        vertical-align: top;\n",
       "    }\n",
       "\n",
       "    .dataframe thead th {\n",
       "        text-align: right;\n",
       "    }\n",
       "</style>\n",
       "<table border=\"1\" class=\"dataframe\">\n",
       "  <thead>\n",
       "    <tr style=\"text-align: right;\">\n",
       "      <th></th>\n",
       "      <th>id</th>\n",
       "      <th>target</th>\n",
       "    </tr>\n",
       "  </thead>\n",
       "  <tbody>\n",
       "    <tr>\n",
       "      <th>0</th>\n",
       "      <td>0</td>\n",
       "      <td>0</td>\n",
       "    </tr>\n",
       "    <tr>\n",
       "      <th>1</th>\n",
       "      <td>2</td>\n",
       "      <td>0</td>\n",
       "    </tr>\n",
       "    <tr>\n",
       "      <th>2</th>\n",
       "      <td>3</td>\n",
       "      <td>0</td>\n",
       "    </tr>\n",
       "    <tr>\n",
       "      <th>3</th>\n",
       "      <td>9</td>\n",
       "      <td>0</td>\n",
       "    </tr>\n",
       "    <tr>\n",
       "      <th>4</th>\n",
       "      <td>11</td>\n",
       "      <td>0</td>\n",
       "    </tr>\n",
       "    <tr>\n",
       "      <th>...</th>\n",
       "      <td>...</td>\n",
       "      <td>...</td>\n",
       "    </tr>\n",
       "    <tr>\n",
       "      <th>3258</th>\n",
       "      <td>10861</td>\n",
       "      <td>0</td>\n",
       "    </tr>\n",
       "    <tr>\n",
       "      <th>3259</th>\n",
       "      <td>10865</td>\n",
       "      <td>0</td>\n",
       "    </tr>\n",
       "    <tr>\n",
       "      <th>3260</th>\n",
       "      <td>10868</td>\n",
       "      <td>0</td>\n",
       "    </tr>\n",
       "    <tr>\n",
       "      <th>3261</th>\n",
       "      <td>10874</td>\n",
       "      <td>0</td>\n",
       "    </tr>\n",
       "    <tr>\n",
       "      <th>3262</th>\n",
       "      <td>10875</td>\n",
       "      <td>0</td>\n",
       "    </tr>\n",
       "  </tbody>\n",
       "</table>\n",
       "<p>3263 rows × 2 columns</p>\n",
       "</div>"
      ],
      "text/plain": [
       "         id  target\n",
       "0         0       0\n",
       "1         2       0\n",
       "2         3       0\n",
       "3         9       0\n",
       "4        11       0\n",
       "...     ...     ...\n",
       "3258  10861       0\n",
       "3259  10865       0\n",
       "3260  10868       0\n",
       "3261  10874       0\n",
       "3262  10875       0\n",
       "\n",
       "[3263 rows x 2 columns]"
      ]
     },
     "execution_count": 25,
     "metadata": {},
     "output_type": "execute_result"
    }
   ],
   "source": [
    "#load the submission file\n",
    "submission_file_path = \"/kaggle/input/nlp-getting-started/sample_submission.csv\"\n",
    "submission = pd.read_csv(submission_file_path)\n",
    "submission"
   ]
  },
  {
   "cell_type": "code",
   "execution_count": 26,
   "id": "ca820741",
   "metadata": {
    "execution": {
     "iopub.execute_input": "2023-11-14T19:55:23.437605Z",
     "iopub.status.busy": "2023-11-14T19:55:23.436682Z",
     "iopub.status.idle": "2023-11-14T19:55:44.091250Z",
     "shell.execute_reply": "2023-11-14T19:55:44.090333Z"
    },
    "papermill": {
     "duration": 21.228079,
     "end_time": "2023-11-14T19:55:44.093343",
     "exception": false,
     "start_time": "2023-11-14T19:55:22.865264",
     "status": "completed"
    },
    "tags": []
   },
   "outputs": [
    {
     "name": "stdout",
     "output_type": "stream",
     "text": [
      "102/102 [==============================] - 20s 201ms/step\n"
     ]
    },
    {
     "data": {
      "text/plain": [
       "array([1, 1, 1, ..., 1, 1, 0])"
      ]
     },
     "execution_count": 26,
     "metadata": {},
     "output_type": "execute_result"
    }
   ],
   "source": [
    "#prediction for the test data\n",
    "predicted = model_bert_ws.predict(data_test)\n",
    "predicted = predicted.flatten()\n",
    "predicted = np.where(predicted > 0.5, 1, 0)\n",
    "\n",
    "predicted"
   ]
  },
  {
   "cell_type": "code",
   "execution_count": 27,
   "id": "4deba09a",
   "metadata": {
    "execution": {
     "iopub.execute_input": "2023-11-14T19:55:45.091362Z",
     "iopub.status.busy": "2023-11-14T19:55:45.090996Z",
     "iopub.status.idle": "2023-11-14T19:55:45.102468Z",
     "shell.execute_reply": "2023-11-14T19:55:45.101615Z"
    },
    "papermill": {
     "duration": 0.513546,
     "end_time": "2023-11-14T19:55:45.104561",
     "exception": false,
     "start_time": "2023-11-14T19:55:44.591015",
     "status": "completed"
    },
    "tags": []
   },
   "outputs": [
    {
     "data": {
      "text/html": [
       "<div>\n",
       "<style scoped>\n",
       "    .dataframe tbody tr th:only-of-type {\n",
       "        vertical-align: middle;\n",
       "    }\n",
       "\n",
       "    .dataframe tbody tr th {\n",
       "        vertical-align: top;\n",
       "    }\n",
       "\n",
       "    .dataframe thead th {\n",
       "        text-align: right;\n",
       "    }\n",
       "</style>\n",
       "<table border=\"1\" class=\"dataframe\">\n",
       "  <thead>\n",
       "    <tr style=\"text-align: right;\">\n",
       "      <th></th>\n",
       "      <th>id</th>\n",
       "      <th>target</th>\n",
       "    </tr>\n",
       "  </thead>\n",
       "  <tbody>\n",
       "    <tr>\n",
       "      <th>0</th>\n",
       "      <td>0</td>\n",
       "      <td>1</td>\n",
       "    </tr>\n",
       "    <tr>\n",
       "      <th>1</th>\n",
       "      <td>2</td>\n",
       "      <td>1</td>\n",
       "    </tr>\n",
       "    <tr>\n",
       "      <th>2</th>\n",
       "      <td>3</td>\n",
       "      <td>1</td>\n",
       "    </tr>\n",
       "    <tr>\n",
       "      <th>3</th>\n",
       "      <td>9</td>\n",
       "      <td>1</td>\n",
       "    </tr>\n",
       "    <tr>\n",
       "      <th>4</th>\n",
       "      <td>11</td>\n",
       "      <td>1</td>\n",
       "    </tr>\n",
       "    <tr>\n",
       "      <th>...</th>\n",
       "      <td>...</td>\n",
       "      <td>...</td>\n",
       "    </tr>\n",
       "    <tr>\n",
       "      <th>3258</th>\n",
       "      <td>10861</td>\n",
       "      <td>0</td>\n",
       "    </tr>\n",
       "    <tr>\n",
       "      <th>3259</th>\n",
       "      <td>10865</td>\n",
       "      <td>1</td>\n",
       "    </tr>\n",
       "    <tr>\n",
       "      <th>3260</th>\n",
       "      <td>10868</td>\n",
       "      <td>1</td>\n",
       "    </tr>\n",
       "    <tr>\n",
       "      <th>3261</th>\n",
       "      <td>10874</td>\n",
       "      <td>1</td>\n",
       "    </tr>\n",
       "    <tr>\n",
       "      <th>3262</th>\n",
       "      <td>10875</td>\n",
       "      <td>0</td>\n",
       "    </tr>\n",
       "  </tbody>\n",
       "</table>\n",
       "<p>3263 rows × 2 columns</p>\n",
       "</div>"
      ],
      "text/plain": [
       "         id  target\n",
       "0         0       1\n",
       "1         2       1\n",
       "2         3       1\n",
       "3         9       1\n",
       "4        11       1\n",
       "...     ...     ...\n",
       "3258  10861       0\n",
       "3259  10865       1\n",
       "3260  10868       1\n",
       "3261  10874       1\n",
       "3262  10875       0\n",
       "\n",
       "[3263 rows x 2 columns]"
      ]
     },
     "execution_count": 27,
     "metadata": {},
     "output_type": "execute_result"
    }
   ],
   "source": [
    "#put predicted classes to submission file\n",
    "submission['target'] = predicted\n",
    "submission"
   ]
  },
  {
   "cell_type": "code",
   "execution_count": 28,
   "id": "0b80ec93",
   "metadata": {
    "execution": {
     "iopub.execute_input": "2023-11-14T19:55:46.102323Z",
     "iopub.status.busy": "2023-11-14T19:55:46.101723Z",
     "iopub.status.idle": "2023-11-14T19:55:46.113980Z",
     "shell.execute_reply": "2023-11-14T19:55:46.113264Z"
    },
    "papermill": {
     "duration": 0.5147,
     "end_time": "2023-11-14T19:55:46.115917",
     "exception": false,
     "start_time": "2023-11-14T19:55:45.601217",
     "status": "completed"
    },
    "tags": []
   },
   "outputs": [],
   "source": [
    "#create the submission csv file\n",
    "submission.to_csv(\"submission.csv\", sep = \",\", index = False)"
   ]
  }
 ],
 "metadata": {
  "kaggle": {
   "accelerator": "gpu",
   "dataSources": [
    {
     "databundleVersionId": 869809,
     "sourceId": 17777,
     "sourceType": "competition"
    },
    {
     "isSourceIdPinned": true,
     "modelInstanceId": 2180,
     "sourceId": 2938,
     "sourceType": "modelInstanceVersion"
    },
    {
     "isSourceIdPinned": true,
     "modelInstanceId": 1910,
     "sourceId": 2644,
     "sourceType": "modelInstanceVersion"
    }
   ],
   "dockerImageVersionId": 30580,
   "isGpuEnabled": true,
   "isInternetEnabled": true,
   "language": "python",
   "sourceType": "notebook"
  },
  "kernelspec": {
   "display_name": "Python 3",
   "language": "python",
   "name": "python3"
  },
  "language_info": {
   "codemirror_mode": {
    "name": "ipython",
    "version": 3
   },
   "file_extension": ".py",
   "mimetype": "text/x-python",
   "name": "python",
   "nbconvert_exporter": "python",
   "pygments_lexer": "ipython3",
   "version": "3.10.12"
  },
  "papermill": {
   "default_parameters": {},
   "duration": 2490.7563,
   "end_time": "2023-11-14T19:55:49.774895",
   "environment_variables": {},
   "exception": null,
   "input_path": "__notebook__.ipynb",
   "output_path": "__notebook__.ipynb",
   "parameters": {},
   "start_time": "2023-11-14T19:14:19.018595",
   "version": "2.4.0"
  }
 },
 "nbformat": 4,
 "nbformat_minor": 5
}
